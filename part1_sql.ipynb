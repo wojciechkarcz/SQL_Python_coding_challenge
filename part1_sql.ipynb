{
 "cells": [
  {
   "cell_type": "markdown",
   "metadata": {},
   "source": [
    "# Part 1 - SQL challenge\n",
    "\n",
    "Jupyter Notebook and magic command `%%bigquery` were used to connect to the Bigquery [\"COVID-19 Cases by Country\" database](https://console.cloud.google.com/marketplace/product/european-cdc/covid-19-global-cases).\n",
    "  \n",
    "Here you can find details on how to configure Jupyter in order to connect to the Bigquery:\n",
    "https://towardsdatascience.com/using-jupyter-notebook-to-manage-your-bigquery-analytics-c4dc7b2a4113\n",
    "\n",
    "This notebook will use a json key as the authorization method. The exact path to the json key is defined in the .env file which is not located in the public repo.   \n",
    "**Note:** If you want to clone a repo, you need to create the key yourself and save the path to it in your .env file."
   ]
  },
  {
   "cell_type": "code",
   "execution_count": 1,
   "metadata": {},
   "outputs": [],
   "source": [
    "# importing JSON_KEY_PATH variable from a local .env file\n",
    "\n",
    "import os\n",
    "from dotenv import load_dotenv\n",
    "load_dotenv()\n",
    "\n",
    "os.environ[\"GOOGLE_APPLICATION_CREDENTIALS\"] = os.getenv('JSON_KEY_PATH')"
   ]
  },
  {
   "cell_type": "code",
   "execution_count": 2,
   "metadata": {},
   "outputs": [],
   "source": [
    "# Loading bigquery extension\n",
    "\n",
    "%load_ext google.cloud.bigquery"
   ]
  },
  {
   "cell_type": "markdown",
   "metadata": {},
   "source": [
    "Testing connection to Bigquery public database \"COVID-19 Cases by Country\" by simply quering first 5 records."
   ]
  },
  {
   "cell_type": "code",
   "execution_count": 3,
   "metadata": {},
   "outputs": [
    {
     "data": {
      "application/vnd.jupyter.widget-view+json": {
       "model_id": "e49e81d73c7d46858f5bd3d2ba25ba74",
       "version_major": 2,
       "version_minor": 0
      },
      "text/plain": [
       "Query is running:   0%|          |"
      ]
     },
     "metadata": {},
     "output_type": "display_data"
    },
    {
     "data": {
      "application/vnd.jupyter.widget-view+json": {
       "model_id": "cd9a4cd1223246bcbb912e41b7175a91",
       "version_major": 2,
       "version_minor": 0
      },
      "text/plain": [
       "Downloading:   0%|          |"
      ]
     },
     "metadata": {},
     "output_type": "display_data"
    },
    {
     "data": {
      "text/html": [
       "<div>\n",
       "<style scoped>\n",
       "    .dataframe tbody tr th:only-of-type {\n",
       "        vertical-align: middle;\n",
       "    }\n",
       "\n",
       "    .dataframe tbody tr th {\n",
       "        vertical-align: top;\n",
       "    }\n",
       "\n",
       "    .dataframe thead th {\n",
       "        text-align: right;\n",
       "    }\n",
       "</style>\n",
       "<table border=\"1\" class=\"dataframe\">\n",
       "  <thead>\n",
       "    <tr style=\"text-align: right;\">\n",
       "      <th></th>\n",
       "      <th>date</th>\n",
       "      <th>day</th>\n",
       "      <th>month</th>\n",
       "      <th>year</th>\n",
       "      <th>daily_confirmed_cases</th>\n",
       "      <th>daily_deaths</th>\n",
       "      <th>confirmed_cases</th>\n",
       "      <th>deaths</th>\n",
       "      <th>countries_and_territories</th>\n",
       "      <th>geo_id</th>\n",
       "      <th>country_territory_code</th>\n",
       "      <th>pop_data_2019</th>\n",
       "    </tr>\n",
       "  </thead>\n",
       "  <tbody>\n",
       "    <tr>\n",
       "      <th>0</th>\n",
       "      <td>2020-04-16</td>\n",
       "      <td>16</td>\n",
       "      <td>4</td>\n",
       "      <td>2020</td>\n",
       "      <td>30148</td>\n",
       "      <td>4928</td>\n",
       "      <td>639664</td>\n",
       "      <td>30985</td>\n",
       "      <td>United_States_of_America</td>\n",
       "      <td>US</td>\n",
       "      <td>USA</td>\n",
       "      <td>329064917</td>\n",
       "    </tr>\n",
       "    <tr>\n",
       "      <th>1</th>\n",
       "      <td>2020-08-14</td>\n",
       "      <td>14</td>\n",
       "      <td>8</td>\n",
       "      <td>2020</td>\n",
       "      <td>9441</td>\n",
       "      <td>3935</td>\n",
       "      <td>507996</td>\n",
       "      <td>25648</td>\n",
       "      <td>Peru</td>\n",
       "      <td>PE</td>\n",
       "      <td>PER</td>\n",
       "      <td>32510462</td>\n",
       "    </tr>\n",
       "    <tr>\n",
       "      <th>2</th>\n",
       "      <td>2020-07-24</td>\n",
       "      <td>24</td>\n",
       "      <td>7</td>\n",
       "      <td>2020</td>\n",
       "      <td>4546</td>\n",
       "      <td>3887</td>\n",
       "      <td>371096</td>\n",
       "      <td>17654</td>\n",
       "      <td>Peru</td>\n",
       "      <td>PE</td>\n",
       "      <td>PER</td>\n",
       "      <td>32510462</td>\n",
       "    </tr>\n",
       "    <tr>\n",
       "      <th>3</th>\n",
       "      <td>2020-09-07</td>\n",
       "      <td>7</td>\n",
       "      <td>9</td>\n",
       "      <td>2020</td>\n",
       "      <td>-8261</td>\n",
       "      <td>3800</td>\n",
       "      <td>109784</td>\n",
       "      <td>10524</td>\n",
       "      <td>Ecuador</td>\n",
       "      <td>EC</td>\n",
       "      <td>ECU</td>\n",
       "      <td>17373657</td>\n",
       "    </tr>\n",
       "    <tr>\n",
       "      <th>4</th>\n",
       "      <td>2020-04-18</td>\n",
       "      <td>18</td>\n",
       "      <td>4</td>\n",
       "      <td>2020</td>\n",
       "      <td>30833</td>\n",
       "      <td>3770</td>\n",
       "      <td>702164</td>\n",
       "      <td>37054</td>\n",
       "      <td>United_States_of_America</td>\n",
       "      <td>US</td>\n",
       "      <td>USA</td>\n",
       "      <td>329064917</td>\n",
       "    </tr>\n",
       "  </tbody>\n",
       "</table>\n",
       "</div>"
      ],
      "text/plain": [
       "         date  day  month  year  daily_confirmed_cases  daily_deaths  \\\n",
       "0  2020-04-16   16      4  2020                  30148          4928   \n",
       "1  2020-08-14   14      8  2020                   9441          3935   \n",
       "2  2020-07-24   24      7  2020                   4546          3887   \n",
       "3  2020-09-07    7      9  2020                  -8261          3800   \n",
       "4  2020-04-18   18      4  2020                  30833          3770   \n",
       "\n",
       "   confirmed_cases  deaths countries_and_territories geo_id  \\\n",
       "0           639664   30985  United_States_of_America     US   \n",
       "1           507996   25648                      Peru     PE   \n",
       "2           371096   17654                      Peru     PE   \n",
       "3           109784   10524                   Ecuador     EC   \n",
       "4           702164   37054  United_States_of_America     US   \n",
       "\n",
       "  country_territory_code  pop_data_2019  \n",
       "0                    USA      329064917  \n",
       "1                    PER       32510462  \n",
       "2                    PER       32510462  \n",
       "3                    ECU       17373657  \n",
       "4                    USA      329064917  "
      ]
     },
     "execution_count": 3,
     "metadata": {},
     "output_type": "execute_result"
    }
   ],
   "source": [
    "%%bigquery\n",
    "SELECT * FROM bigquery-public-data.covid19_ecdc_eu.covid_19_geographic_distribution_worldwide\n",
    "ORDER BY daily_deaths DESC\n",
    "LIMIT 5 "
   ]
  },
  {
   "cell_type": "code",
   "execution_count": null,
   "metadata": {},
   "outputs": [],
   "source": []
  },
  {
   "cell_type": "markdown",
   "metadata": {},
   "source": [
    "### Question 1\n",
    "What time frame does the dataset cover? How many countries does it contain?"
   ]
  },
  {
   "cell_type": "code",
   "execution_count": 8,
   "metadata": {},
   "outputs": [
    {
     "data": {
      "application/vnd.jupyter.widget-view+json": {
       "model_id": "a874a9c4db3a415f946af49c1535f00c",
       "version_major": 2,
       "version_minor": 0
      },
      "text/plain": [
       "Query is running:   0%|          |"
      ]
     },
     "metadata": {},
     "output_type": "display_data"
    },
    {
     "data": {
      "application/vnd.jupyter.widget-view+json": {
       "model_id": "48d7d8c09a9f44888f77f55f2a15a512",
       "version_major": 2,
       "version_minor": 0
      },
      "text/plain": [
       "Downloading:   0%|          |"
      ]
     },
     "metadata": {},
     "output_type": "display_data"
    },
    {
     "data": {
      "text/html": [
       "<div>\n",
       "<style scoped>\n",
       "    .dataframe tbody tr th:only-of-type {\n",
       "        vertical-align: middle;\n",
       "    }\n",
       "\n",
       "    .dataframe tbody tr th {\n",
       "        vertical-align: top;\n",
       "    }\n",
       "\n",
       "    .dataframe thead th {\n",
       "        text-align: right;\n",
       "    }\n",
       "</style>\n",
       "<table border=\"1\" class=\"dataframe\">\n",
       "  <thead>\n",
       "    <tr style=\"text-align: right;\">\n",
       "      <th></th>\n",
       "      <th>min_date</th>\n",
       "      <th>max_date</th>\n",
       "    </tr>\n",
       "  </thead>\n",
       "  <tbody>\n",
       "    <tr>\n",
       "      <th>0</th>\n",
       "      <td>2019-12-31</td>\n",
       "      <td>2020-12-14</td>\n",
       "    </tr>\n",
       "  </tbody>\n",
       "</table>\n",
       "</div>"
      ],
      "text/plain": [
       "     min_date    max_date\n",
       "0  2019-12-31  2020-12-14"
      ]
     },
     "execution_count": 8,
     "metadata": {},
     "output_type": "execute_result"
    }
   ],
   "source": [
    "%%bigquery\n",
    "SELECT MIN(date) AS min_date, MAX(date) AS max_date FROM bigquery-public-data.covid19_ecdc_eu.covid_19_geographic_distribution_worldwide"
   ]
  },
  {
   "cell_type": "markdown",
   "metadata": {},
   "source": [
    "**ANSWER:**  Data time range starts from 31-12-2019 to 14-12-2020."
   ]
  },
  {
   "cell_type": "markdown",
   "metadata": {},
   "source": [
    "During the brief data browsing, I noticed a strange name for one of the countries: *Cases_on_an_international_conveyance_Japan*\n",
    "\n",
    "After a quick research, I found out that this name stands for all cases on the Diamond Princess cruise ship."
   ]
  },
  {
   "cell_type": "code",
   "execution_count": 6,
   "metadata": {},
   "outputs": [
    {
     "data": {
      "application/vnd.jupyter.widget-view+json": {
       "model_id": "41ec2a8316ac41d587d1c3970be5796d",
       "version_major": 2,
       "version_minor": 0
      },
      "text/plain": [
       "Query is running:   0%|          |"
      ]
     },
     "metadata": {},
     "output_type": "display_data"
    },
    {
     "data": {
      "application/vnd.jupyter.widget-view+json": {
       "model_id": "fab71b4244204c888fb58188f43a893a",
       "version_major": 2,
       "version_minor": 0
      },
      "text/plain": [
       "Downloading:   0%|          |"
      ]
     },
     "metadata": {},
     "output_type": "display_data"
    },
    {
     "data": {
      "text/html": [
       "<div>\n",
       "<style scoped>\n",
       "    .dataframe tbody tr th:only-of-type {\n",
       "        vertical-align: middle;\n",
       "    }\n",
       "\n",
       "    .dataframe tbody tr th {\n",
       "        vertical-align: top;\n",
       "    }\n",
       "\n",
       "    .dataframe thead th {\n",
       "        text-align: right;\n",
       "    }\n",
       "</style>\n",
       "<table border=\"1\" class=\"dataframe\">\n",
       "  <thead>\n",
       "    <tr style=\"text-align: right;\">\n",
       "      <th></th>\n",
       "      <th>countries</th>\n",
       "    </tr>\n",
       "  </thead>\n",
       "  <tbody>\n",
       "    <tr>\n",
       "      <th>0</th>\n",
       "      <td>Cases_on_an_international_conveyance_Japan</td>\n",
       "    </tr>\n",
       "    <tr>\n",
       "      <th>1</th>\n",
       "      <td>Afghanistan</td>\n",
       "    </tr>\n",
       "    <tr>\n",
       "      <th>2</th>\n",
       "      <td>United_Arab_Emirates</td>\n",
       "    </tr>\n",
       "    <tr>\n",
       "      <th>3</th>\n",
       "      <td>Armenia</td>\n",
       "    </tr>\n",
       "    <tr>\n",
       "      <th>4</th>\n",
       "      <td>Australia</td>\n",
       "    </tr>\n",
       "    <tr>\n",
       "      <th>...</th>\n",
       "      <td>...</td>\n",
       "    </tr>\n",
       "    <tr>\n",
       "      <th>209</th>\n",
       "      <td>United_Republic_of_Tanzania</td>\n",
       "    </tr>\n",
       "    <tr>\n",
       "      <th>210</th>\n",
       "      <td>United_States_Virgin_Islands</td>\n",
       "    </tr>\n",
       "    <tr>\n",
       "      <th>211</th>\n",
       "      <td>Democratic_Republic_of_the_Congo</td>\n",
       "    </tr>\n",
       "    <tr>\n",
       "      <th>212</th>\n",
       "      <td>Saint_Vincent_and_the_Grenadines</td>\n",
       "    </tr>\n",
       "    <tr>\n",
       "      <th>213</th>\n",
       "      <td>Bonaire, Saint Eustatius and Saba</td>\n",
       "    </tr>\n",
       "  </tbody>\n",
       "</table>\n",
       "<p>214 rows × 1 columns</p>\n",
       "</div>"
      ],
      "text/plain": [
       "                                      countries\n",
       "0    Cases_on_an_international_conveyance_Japan\n",
       "1                                   Afghanistan\n",
       "2                          United_Arab_Emirates\n",
       "3                                       Armenia\n",
       "4                                     Australia\n",
       "..                                          ...\n",
       "209                 United_Republic_of_Tanzania\n",
       "210                United_States_Virgin_Islands\n",
       "211            Democratic_Republic_of_the_Congo\n",
       "212            Saint_Vincent_and_the_Grenadines\n",
       "213           Bonaire, Saint Eustatius and Saba\n",
       "\n",
       "[214 rows x 1 columns]"
      ]
     },
     "execution_count": 6,
     "metadata": {},
     "output_type": "execute_result"
    }
   ],
   "source": [
    "%%bigquery\n",
    "SELECT DISTINCT(countries_and_territories) AS countries FROM bigquery-public-data.covid19_ecdc_eu.covid_19_geographic_distribution_worldwide"
   ]
  },
  {
   "cell_type": "code",
   "execution_count": 7,
   "metadata": {},
   "outputs": [
    {
     "data": {
      "application/vnd.jupyter.widget-view+json": {
       "model_id": "5168d0582f434342ace1cb889308928e",
       "version_major": 2,
       "version_minor": 0
      },
      "text/plain": [
       "Query is running:   0%|          |"
      ]
     },
     "metadata": {},
     "output_type": "display_data"
    },
    {
     "data": {
      "application/vnd.jupyter.widget-view+json": {
       "model_id": "460a014137194534b72fd5a2a1d25336",
       "version_major": 2,
       "version_minor": 0
      },
      "text/plain": [
       "Downloading:   0%|          |"
      ]
     },
     "metadata": {},
     "output_type": "display_data"
    },
    {
     "data": {
      "text/html": [
       "<div>\n",
       "<style scoped>\n",
       "    .dataframe tbody tr th:only-of-type {\n",
       "        vertical-align: middle;\n",
       "    }\n",
       "\n",
       "    .dataframe tbody tr th {\n",
       "        vertical-align: top;\n",
       "    }\n",
       "\n",
       "    .dataframe thead th {\n",
       "        text-align: right;\n",
       "    }\n",
       "</style>\n",
       "<table border=\"1\" class=\"dataframe\">\n",
       "  <thead>\n",
       "    <tr style=\"text-align: right;\">\n",
       "      <th></th>\n",
       "      <th>countries</th>\n",
       "    </tr>\n",
       "  </thead>\n",
       "  <tbody>\n",
       "    <tr>\n",
       "      <th>0</th>\n",
       "      <td>214</td>\n",
       "    </tr>\n",
       "  </tbody>\n",
       "</table>\n",
       "</div>"
      ],
      "text/plain": [
       "   countries\n",
       "0        214"
      ]
     },
     "execution_count": 7,
     "metadata": {},
     "output_type": "execute_result"
    }
   ],
   "source": [
    "%%bigquery\n",
    "SELECT COUNT(DISTINCT(countries_and_territories)) AS countries FROM bigquery-public-data.covid19_ecdc_eu.covid_19_geographic_distribution_worldwide"
   ]
  },
  {
   "cell_type": "markdown",
   "metadata": {},
   "source": [
    "**ANSWER:** Assuming that we treat all unique names in the `countries_and_territories` column as countries, there are 213 countries in the dataset (214 - 1 ship = 213)"
   ]
  },
  {
   "cell_type": "code",
   "execution_count": null,
   "metadata": {},
   "outputs": [],
   "source": []
  },
  {
   "cell_type": "markdown",
   "metadata": {},
   "source": [
    "### Question 2\n",
    "\n",
    "Which country had the most deaths due to Covid-19 on a single day, and which day was that?"
   ]
  },
  {
   "cell_type": "code",
   "execution_count": 9,
   "metadata": {},
   "outputs": [
    {
     "data": {
      "application/vnd.jupyter.widget-view+json": {
       "model_id": "62d46d125b594ca2ac31065e3e9bf374",
       "version_major": 2,
       "version_minor": 0
      },
      "text/plain": [
       "Query is running:   0%|          |"
      ]
     },
     "metadata": {},
     "output_type": "display_data"
    },
    {
     "data": {
      "application/vnd.jupyter.widget-view+json": {
       "model_id": "f894423b66c24a9684ea6b7b02e8d08c",
       "version_major": 2,
       "version_minor": 0
      },
      "text/plain": [
       "Downloading:   0%|          |"
      ]
     },
     "metadata": {},
     "output_type": "display_data"
    },
    {
     "data": {
      "text/html": [
       "<div>\n",
       "<style scoped>\n",
       "    .dataframe tbody tr th:only-of-type {\n",
       "        vertical-align: middle;\n",
       "    }\n",
       "\n",
       "    .dataframe tbody tr th {\n",
       "        vertical-align: top;\n",
       "    }\n",
       "\n",
       "    .dataframe thead th {\n",
       "        text-align: right;\n",
       "    }\n",
       "</style>\n",
       "<table border=\"1\" class=\"dataframe\">\n",
       "  <thead>\n",
       "    <tr style=\"text-align: right;\">\n",
       "      <th></th>\n",
       "      <th>date</th>\n",
       "      <th>daily_deaths</th>\n",
       "      <th>countries_and_territories</th>\n",
       "    </tr>\n",
       "  </thead>\n",
       "  <tbody>\n",
       "    <tr>\n",
       "      <th>0</th>\n",
       "      <td>2020-04-16</td>\n",
       "      <td>4928</td>\n",
       "      <td>United_States_of_America</td>\n",
       "    </tr>\n",
       "  </tbody>\n",
       "</table>\n",
       "</div>"
      ],
      "text/plain": [
       "         date  daily_deaths countries_and_territories\n",
       "0  2020-04-16          4928  United_States_of_America"
      ]
     },
     "execution_count": 9,
     "metadata": {},
     "output_type": "execute_result"
    }
   ],
   "source": [
    "%%bigquery\n",
    "SELECT date, daily_deaths, countries_and_territories FROM bigquery-public-data.covid19_ecdc_eu.covid_19_geographic_distribution_worldwide\n",
    "ORDER BY daily_deaths DESC\n",
    "LIMIT 1 "
   ]
  },
  {
   "cell_type": "markdown",
   "metadata": {},
   "source": [
    "**ANSWER:** On a single day, the most deaths (4928) were in the USA on 16-04-2020. "
   ]
  },
  {
   "cell_type": "code",
   "execution_count": null,
   "metadata": {},
   "outputs": [],
   "source": []
  },
  {
   "cell_type": "markdown",
   "metadata": {},
   "source": [
    "### Question 3 \n",
    "\n",
    "Which country had the most deaths due to Covid-19 in August 2020, and how many?"
   ]
  },
  {
   "cell_type": "code",
   "execution_count": 12,
   "metadata": {},
   "outputs": [
    {
     "data": {
      "application/vnd.jupyter.widget-view+json": {
       "model_id": "72fd6e8a43f34accba78debd780cc506",
       "version_major": 2,
       "version_minor": 0
      },
      "text/plain": [
       "Query is running:   0%|          |"
      ]
     },
     "metadata": {},
     "output_type": "display_data"
    },
    {
     "data": {
      "application/vnd.jupyter.widget-view+json": {
       "model_id": "aa0660367ad6402a995f9009004b5c2f",
       "version_major": 2,
       "version_minor": 0
      },
      "text/plain": [
       "Downloading:   0%|          |"
      ]
     },
     "metadata": {},
     "output_type": "display_data"
    },
    {
     "data": {
      "text/html": [
       "<div>\n",
       "<style scoped>\n",
       "    .dataframe tbody tr th:only-of-type {\n",
       "        vertical-align: middle;\n",
       "    }\n",
       "\n",
       "    .dataframe tbody tr th {\n",
       "        vertical-align: top;\n",
       "    }\n",
       "\n",
       "    .dataframe thead th {\n",
       "        text-align: right;\n",
       "    }\n",
       "</style>\n",
       "<table border=\"1\" class=\"dataframe\">\n",
       "  <thead>\n",
       "    <tr style=\"text-align: right;\">\n",
       "      <th></th>\n",
       "      <th>country</th>\n",
       "      <th>deaths_in_august</th>\n",
       "    </tr>\n",
       "  </thead>\n",
       "  <tbody>\n",
       "    <tr>\n",
       "      <th>0</th>\n",
       "      <td>United_States_of_America</td>\n",
       "      <td>30999</td>\n",
       "    </tr>\n",
       "    <tr>\n",
       "      <th>1</th>\n",
       "      <td>Brazil</td>\n",
       "      <td>29565</td>\n",
       "    </tr>\n",
       "    <tr>\n",
       "      <th>2</th>\n",
       "      <td>India</td>\n",
       "      <td>28722</td>\n",
       "    </tr>\n",
       "    <tr>\n",
       "      <th>3</th>\n",
       "      <td>Mexico</td>\n",
       "      <td>18158</td>\n",
       "    </tr>\n",
       "    <tr>\n",
       "      <th>4</th>\n",
       "      <td>Peru</td>\n",
       "      <td>9767</td>\n",
       "    </tr>\n",
       "  </tbody>\n",
       "</table>\n",
       "</div>"
      ],
      "text/plain": [
       "                    country  deaths_in_august\n",
       "0  United_States_of_America             30999\n",
       "1                    Brazil             29565\n",
       "2                     India             28722\n",
       "3                    Mexico             18158\n",
       "4                      Peru              9767"
      ]
     },
     "execution_count": 12,
     "metadata": {},
     "output_type": "execute_result"
    }
   ],
   "source": [
    "%%bigquery\n",
    "SELECT countries_and_territories AS country, SUM(daily_deaths) AS deaths_in_august FROM bigquery-public-data.covid19_ecdc_eu.covid_19_geographic_distribution_worldwide\n",
    "GROUP BY country, month\n",
    "HAVING month = 8\n",
    "ORDER BY deaths_in_august DESC\n",
    "LIMIT 5"
   ]
  },
  {
   "cell_type": "markdown",
   "metadata": {},
   "source": [
    "**ANSWER:** In August 2020, the most deaths due to COVID-19 were in the USA - 30 999 cases."
   ]
  },
  {
   "cell_type": "code",
   "execution_count": null,
   "metadata": {},
   "outputs": [],
   "source": []
  },
  {
   "cell_type": "markdown",
   "metadata": {},
   "source": [
    "### Question 4 \n",
    "\n",
    "How many countries have complete (i.e. one sample per day) data from at least April 2020 to (including) November 2020?"
   ]
  },
  {
   "cell_type": "markdown",
   "metadata": {},
   "source": [
    "There are exactly 244 days in the period from 2020-04-01 to 2020-11-30. This information was used in the subquery to select only those records that meet this criterion, i.e. have one sample each day during this period."
   ]
  },
  {
   "cell_type": "code",
   "execution_count": 13,
   "metadata": {},
   "outputs": [
    {
     "data": {
      "application/vnd.jupyter.widget-view+json": {
       "model_id": "60bbbd8c35e54fac8363e97ded7f1302",
       "version_major": 2,
       "version_minor": 0
      },
      "text/plain": [
       "Query is running:   0%|          |"
      ]
     },
     "metadata": {},
     "output_type": "display_data"
    },
    {
     "data": {
      "application/vnd.jupyter.widget-view+json": {
       "model_id": "eeef614eac7f41e5b2c85e19a99aa555",
       "version_major": 2,
       "version_minor": 0
      },
      "text/plain": [
       "Downloading:   0%|          |"
      ]
     },
     "metadata": {},
     "output_type": "display_data"
    },
    {
     "data": {
      "text/html": [
       "<div>\n",
       "<style scoped>\n",
       "    .dataframe tbody tr th:only-of-type {\n",
       "        vertical-align: middle;\n",
       "    }\n",
       "\n",
       "    .dataframe tbody tr th {\n",
       "        vertical-align: top;\n",
       "    }\n",
       "\n",
       "    .dataframe thead th {\n",
       "        text-align: right;\n",
       "    }\n",
       "</style>\n",
       "<table border=\"1\" class=\"dataframe\">\n",
       "  <thead>\n",
       "    <tr style=\"text-align: right;\">\n",
       "      <th></th>\n",
       "      <th>countries_with_full_record</th>\n",
       "    </tr>\n",
       "  </thead>\n",
       "  <tbody>\n",
       "    <tr>\n",
       "      <th>0</th>\n",
       "      <td>196</td>\n",
       "    </tr>\n",
       "  </tbody>\n",
       "</table>\n",
       "</div>"
      ],
      "text/plain": [
       "   countries_with_full_record\n",
       "0                         196"
      ]
     },
     "execution_count": 13,
     "metadata": {},
     "output_type": "execute_result"
    }
   ],
   "source": [
    "%%bigquery\n",
    "SELECT COUNT(*) AS countries_with_full_record FROM \n",
    "(SELECT country_territory_code FROM \n",
    "(SELECT * FROM bigquery-public-data.covid19_ecdc_eu.covid_19_geographic_distribution_worldwide\n",
    "WHERE month >= 4 AND month <=11)\n",
    "GROUP BY country_territory_code\n",
    "HAVING COUNT(DISTINCT(date)) = 244)"
   ]
  },
  {
   "cell_type": "markdown",
   "metadata": {},
   "source": [
    "**ANSWER:** 196 countries have full data (one sample per day) from April (2020-04-01) to November (2020-11-30)"
   ]
  },
  {
   "cell_type": "code",
   "execution_count": null,
   "metadata": {},
   "outputs": [],
   "source": []
  },
  {
   "cell_type": "markdown",
   "metadata": {},
   "source": [
    "### Question 5 \n",
    "\n",
    "On which day and in which country was Covid-19 deadliest, defined as `daily_deaths / sum of daily confirmed cases over last 14 days`. Use only the subset of the countries found in Question 4 to answer this question. What do you observe?"
   ]
  },
  {
   "cell_type": "markdown",
   "metadata": {},
   "source": [
    "Using the following query, the 15 records with the highest death ratio are displayed in descending order. The window function was used to calculate the death ratio. If the sum of the last 14 days is zero, then the death ratio is set to 0.  \n",
    "In addition to the death ratio itself, other data is displayed, such as the sum of cases from the last 14 days, the number of deaths per day, or the number of confirmed cases per day to give the results a broader context."
   ]
  },
  {
   "cell_type": "code",
   "execution_count": 17,
   "metadata": {},
   "outputs": [
    {
     "data": {
      "application/vnd.jupyter.widget-view+json": {
       "model_id": "a82cc8e80c7a4545b2fb235ced7c164b",
       "version_major": 2,
       "version_minor": 0
      },
      "text/plain": [
       "Query is running:   0%|          |"
      ]
     },
     "metadata": {},
     "output_type": "display_data"
    },
    {
     "data": {
      "application/vnd.jupyter.widget-view+json": {
       "model_id": "ffde61c632e74e56a58ac4a5e0cd01cd",
       "version_major": 2,
       "version_minor": 0
      },
      "text/plain": [
       "Downloading:   0%|          |"
      ]
     },
     "metadata": {},
     "output_type": "display_data"
    },
    {
     "data": {
      "text/html": [
       "<div>\n",
       "<style scoped>\n",
       "    .dataframe tbody tr th:only-of-type {\n",
       "        vertical-align: middle;\n",
       "    }\n",
       "\n",
       "    .dataframe tbody tr th {\n",
       "        vertical-align: top;\n",
       "    }\n",
       "\n",
       "    .dataframe thead th {\n",
       "        text-align: right;\n",
       "    }\n",
       "</style>\n",
       "<table border=\"1\" class=\"dataframe\">\n",
       "  <thead>\n",
       "    <tr style=\"text-align: right;\">\n",
       "      <th></th>\n",
       "      <th>date</th>\n",
       "      <th>countries_and_territories</th>\n",
       "      <th>death_ratio</th>\n",
       "      <th>sum_confirmed_cases_last_14_days</th>\n",
       "      <th>daily_confirmed_cases</th>\n",
       "      <th>daily_deaths</th>\n",
       "      <th>confirmed_cases</th>\n",
       "      <th>deaths</th>\n",
       "    </tr>\n",
       "  </thead>\n",
       "  <tbody>\n",
       "    <tr>\n",
       "      <th>0</th>\n",
       "      <td>2020-09-07</td>\n",
       "      <td>Ecuador</td>\n",
       "      <td>1.885856</td>\n",
       "      <td>2015</td>\n",
       "      <td>-8261</td>\n",
       "      <td>3800</td>\n",
       "      <td>109784</td>\n",
       "      <td>10524</td>\n",
       "    </tr>\n",
       "    <tr>\n",
       "      <th>1</th>\n",
       "      <td>2020-04-17</td>\n",
       "      <td>China</td>\n",
       "      <td>1.000776</td>\n",
       "      <td>1289</td>\n",
       "      <td>352</td>\n",
       "      <td>1290</td>\n",
       "      <td>83754</td>\n",
       "      <td>4636</td>\n",
       "    </tr>\n",
       "    <tr>\n",
       "      <th>2</th>\n",
       "      <td>2020-05-08</td>\n",
       "      <td>Aruba</td>\n",
       "      <td>1.000000</td>\n",
       "      <td>1</td>\n",
       "      <td>0</td>\n",
       "      <td>1</td>\n",
       "      <td>101</td>\n",
       "      <td>3</td>\n",
       "    </tr>\n",
       "    <tr>\n",
       "      <th>3</th>\n",
       "      <td>2020-03-15</td>\n",
       "      <td>Sudan</td>\n",
       "      <td>1.000000</td>\n",
       "      <td>1</td>\n",
       "      <td>0</td>\n",
       "      <td>1</td>\n",
       "      <td>1</td>\n",
       "      <td>1</td>\n",
       "    </tr>\n",
       "    <tr>\n",
       "      <th>4</th>\n",
       "      <td>2020-08-01</td>\n",
       "      <td>Fiji</td>\n",
       "      <td>1.000000</td>\n",
       "      <td>1</td>\n",
       "      <td>0</td>\n",
       "      <td>1</td>\n",
       "      <td>27</td>\n",
       "      <td>1</td>\n",
       "    </tr>\n",
       "    <tr>\n",
       "      <th>5</th>\n",
       "      <td>2020-04-20</td>\n",
       "      <td>British_Virgin_Islands</td>\n",
       "      <td>1.000000</td>\n",
       "      <td>1</td>\n",
       "      <td>1</td>\n",
       "      <td>1</td>\n",
       "      <td>4</td>\n",
       "      <td>1</td>\n",
       "    </tr>\n",
       "    <tr>\n",
       "      <th>6</th>\n",
       "      <td>2020-03-16</td>\n",
       "      <td>Guatemala</td>\n",
       "      <td>1.000000</td>\n",
       "      <td>1</td>\n",
       "      <td>0</td>\n",
       "      <td>1</td>\n",
       "      <td>1</td>\n",
       "      <td>1</td>\n",
       "    </tr>\n",
       "    <tr>\n",
       "      <th>7</th>\n",
       "      <td>2020-03-13</td>\n",
       "      <td>Guyana</td>\n",
       "      <td>1.000000</td>\n",
       "      <td>1</td>\n",
       "      <td>1</td>\n",
       "      <td>1</td>\n",
       "      <td>1</td>\n",
       "      <td>1</td>\n",
       "    </tr>\n",
       "    <tr>\n",
       "      <th>8</th>\n",
       "      <td>2020-08-29</td>\n",
       "      <td>Fiji</td>\n",
       "      <td>1.000000</td>\n",
       "      <td>1</td>\n",
       "      <td>0</td>\n",
       "      <td>1</td>\n",
       "      <td>28</td>\n",
       "      <td>2</td>\n",
       "    </tr>\n",
       "    <tr>\n",
       "      <th>9</th>\n",
       "      <td>2020-02-20</td>\n",
       "      <td>Iran</td>\n",
       "      <td>1.000000</td>\n",
       "      <td>2</td>\n",
       "      <td>2</td>\n",
       "      <td>2</td>\n",
       "      <td>2</td>\n",
       "      <td>2</td>\n",
       "    </tr>\n",
       "    <tr>\n",
       "      <th>10</th>\n",
       "      <td>2020-11-09</td>\n",
       "      <td>Sudan</td>\n",
       "      <td>0.798851</td>\n",
       "      <td>348</td>\n",
       "      <td>147</td>\n",
       "      <td>278</td>\n",
       "      <td>14090</td>\n",
       "      <td>1115</td>\n",
       "    </tr>\n",
       "    <tr>\n",
       "      <th>11</th>\n",
       "      <td>2020-06-10</td>\n",
       "      <td>Croatia</td>\n",
       "      <td>0.666667</td>\n",
       "      <td>3</td>\n",
       "      <td>0</td>\n",
       "      <td>2</td>\n",
       "      <td>2247</td>\n",
       "      <td>106</td>\n",
       "    </tr>\n",
       "    <tr>\n",
       "      <th>12</th>\n",
       "      <td>2020-05-14</td>\n",
       "      <td>Mauritania</td>\n",
       "      <td>0.500000</td>\n",
       "      <td>2</td>\n",
       "      <td>1</td>\n",
       "      <td>1</td>\n",
       "      <td>9</td>\n",
       "      <td>2</td>\n",
       "    </tr>\n",
       "    <tr>\n",
       "      <th>13</th>\n",
       "      <td>2020-03-24</td>\n",
       "      <td>Zimbabwe</td>\n",
       "      <td>0.500000</td>\n",
       "      <td>2</td>\n",
       "      <td>0</td>\n",
       "      <td>1</td>\n",
       "      <td>2</td>\n",
       "      <td>1</td>\n",
       "    </tr>\n",
       "    <tr>\n",
       "      <th>14</th>\n",
       "      <td>2020-02-02</td>\n",
       "      <td>Philippines</td>\n",
       "      <td>0.500000</td>\n",
       "      <td>2</td>\n",
       "      <td>1</td>\n",
       "      <td>1</td>\n",
       "      <td>2</td>\n",
       "      <td>1</td>\n",
       "    </tr>\n",
       "  </tbody>\n",
       "</table>\n",
       "</div>"
      ],
      "text/plain": [
       "          date countries_and_territories  death_ratio  \\\n",
       "0   2020-09-07                   Ecuador     1.885856   \n",
       "1   2020-04-17                     China     1.000776   \n",
       "2   2020-05-08                     Aruba     1.000000   \n",
       "3   2020-03-15                     Sudan     1.000000   \n",
       "4   2020-08-01                      Fiji     1.000000   \n",
       "5   2020-04-20    British_Virgin_Islands     1.000000   \n",
       "6   2020-03-16                 Guatemala     1.000000   \n",
       "7   2020-03-13                    Guyana     1.000000   \n",
       "8   2020-08-29                      Fiji     1.000000   \n",
       "9   2020-02-20                      Iran     1.000000   \n",
       "10  2020-11-09                     Sudan     0.798851   \n",
       "11  2020-06-10                   Croatia     0.666667   \n",
       "12  2020-05-14                Mauritania     0.500000   \n",
       "13  2020-03-24                  Zimbabwe     0.500000   \n",
       "14  2020-02-02               Philippines     0.500000   \n",
       "\n",
       "    sum_confirmed_cases_last_14_days  daily_confirmed_cases  daily_deaths  \\\n",
       "0                               2015                  -8261          3800   \n",
       "1                               1289                    352          1290   \n",
       "2                                  1                      0             1   \n",
       "3                                  1                      0             1   \n",
       "4                                  1                      0             1   \n",
       "5                                  1                      1             1   \n",
       "6                                  1                      0             1   \n",
       "7                                  1                      1             1   \n",
       "8                                  1                      0             1   \n",
       "9                                  2                      2             2   \n",
       "10                               348                    147           278   \n",
       "11                                 3                      0             2   \n",
       "12                                 2                      1             1   \n",
       "13                                 2                      0             1   \n",
       "14                                 2                      1             1   \n",
       "\n",
       "    confirmed_cases  deaths  \n",
       "0            109784   10524  \n",
       "1             83754    4636  \n",
       "2               101       3  \n",
       "3                 1       1  \n",
       "4                27       1  \n",
       "5                 4       1  \n",
       "6                 1       1  \n",
       "7                 1       1  \n",
       "8                28       2  \n",
       "9                 2       2  \n",
       "10            14090    1115  \n",
       "11             2247     106  \n",
       "12                9       2  \n",
       "13                2       1  \n",
       "14                2       1  "
      ]
     },
     "execution_count": 17,
     "metadata": {},
     "output_type": "execute_result"
    }
   ],
   "source": [
    "%%bigquery\n",
    "SELECT date, countries_and_territories, \n",
    "CASE\n",
    "    WHEN SUM(daily_confirmed_cases) OVER (PARTITION BY country_territory_code ORDER BY date ROWS BETWEEN 13 PRECEDING AND CURRENT ROW) = 0 THEN NULL\n",
    "    ELSE daily_deaths / NULLIF(SUM(daily_confirmed_cases) OVER (PARTITION BY country_territory_code ORDER BY date ROWS BETWEEN 13 PRECEDING AND CURRENT ROW), 0)\n",
    "END AS death_ratio,\n",
    "SUM(daily_confirmed_cases) OVER (PARTITION BY country_territory_code ORDER BY date ROWS BETWEEN 13 PRECEDING AND CURRENT ROW) AS sum_confirmed_cases_last_14_days,\n",
    "daily_confirmed_cases, daily_deaths, confirmed_cases, deaths\n",
    "FROM bigquery-public-data.covid19_ecdc_eu.covid_19_geographic_distribution_worldwide\n",
    "WHERE country_territory_code IN (SELECT country_territory_code FROM\n",
    "(SELECT * FROM bigquery-public-data.covid19_ecdc_eu.covid_19_geographic_distribution_worldwide\n",
    "WHERE month >= 4 AND month <=11)\n",
    "GROUP BY country_territory_code\n",
    "HAVING COUNT(*) = 244)\n",
    "ORDER BY death_ratio DESC\n",
    "LIMIT 15"
   ]
  },
  {
   "cell_type": "markdown",
   "metadata": {},
   "source": [
    "**ANSWER:** Answering directly the question asked, based on the proposed death ratio method, the deadliest day in terms of COVID-19 was 07-09-2020 in Ecuador with a death ratio of: 1.885856  \n",
    "\n",
    "However, looking at other data around this day, it can be said that the death ratio is not reliable. Below is a table with records showing the course of the pandemic in Ecuador during this period. It can be immediately noticed that the number of deaths (3800) on 2020-09-07 is an outlier and strongly differs from the number of deaths in the adjacent days. The number of confirmed cases is also negative, which automatically increases the death rate."
   ]
  },
  {
   "cell_type": "code",
   "execution_count": 25,
   "metadata": {},
   "outputs": [
    {
     "data": {
      "application/vnd.jupyter.widget-view+json": {
       "model_id": "422da453319b43d88bbe45a5fbab1091",
       "version_major": 2,
       "version_minor": 0
      },
      "text/plain": [
       "Query is running:   0%|          |"
      ]
     },
     "metadata": {},
     "output_type": "display_data"
    },
    {
     "data": {
      "application/vnd.jupyter.widget-view+json": {
       "model_id": "869f161682ae42b588ddac253b1e59d9",
       "version_major": 2,
       "version_minor": 0
      },
      "text/plain": [
       "Downloading:   0%|          |"
      ]
     },
     "metadata": {},
     "output_type": "display_data"
    },
    {
     "data": {
      "text/html": [
       "<div>\n",
       "<style scoped>\n",
       "    .dataframe tbody tr th:only-of-type {\n",
       "        vertical-align: middle;\n",
       "    }\n",
       "\n",
       "    .dataframe tbody tr th {\n",
       "        vertical-align: top;\n",
       "    }\n",
       "\n",
       "    .dataframe thead th {\n",
       "        text-align: right;\n",
       "    }\n",
       "</style>\n",
       "<table border=\"1\" class=\"dataframe\">\n",
       "  <thead>\n",
       "    <tr style=\"text-align: right;\">\n",
       "      <th></th>\n",
       "      <th>country</th>\n",
       "      <th>date</th>\n",
       "      <th>daily_confirmed_cases</th>\n",
       "      <th>daily_deaths</th>\n",
       "      <th>confirmed_cases</th>\n",
       "      <th>deaths</th>\n",
       "    </tr>\n",
       "  </thead>\n",
       "  <tbody>\n",
       "    <tr>\n",
       "      <th>0</th>\n",
       "      <td>Ecuador</td>\n",
       "      <td>2020-09-10</td>\n",
       "      <td>1409</td>\n",
       "      <td>74</td>\n",
       "      <td>112166</td>\n",
       "      <td>10701</td>\n",
       "    </tr>\n",
       "    <tr>\n",
       "      <th>1</th>\n",
       "      <td>Ecuador</td>\n",
       "      <td>2020-09-09</td>\n",
       "      <td>665</td>\n",
       "      <td>51</td>\n",
       "      <td>110757</td>\n",
       "      <td>10627</td>\n",
       "    </tr>\n",
       "    <tr>\n",
       "      <th>2</th>\n",
       "      <td>Ecuador</td>\n",
       "      <td>2020-09-08</td>\n",
       "      <td>308</td>\n",
       "      <td>52</td>\n",
       "      <td>110092</td>\n",
       "      <td>10576</td>\n",
       "    </tr>\n",
       "    <tr>\n",
       "      <th>3</th>\n",
       "      <td>Ecuador</td>\n",
       "      <td>2020-09-07</td>\n",
       "      <td>-8261</td>\n",
       "      <td>3800</td>\n",
       "      <td>109784</td>\n",
       "      <td>10524</td>\n",
       "    </tr>\n",
       "    <tr>\n",
       "      <th>4</th>\n",
       "      <td>Ecuador</td>\n",
       "      <td>2020-09-06</td>\n",
       "      <td>870</td>\n",
       "      <td>50</td>\n",
       "      <td>118045</td>\n",
       "      <td>6724</td>\n",
       "    </tr>\n",
       "    <tr>\n",
       "      <th>5</th>\n",
       "      <td>Ecuador</td>\n",
       "      <td>2020-09-05</td>\n",
       "      <td>815</td>\n",
       "      <td>26</td>\n",
       "      <td>117175</td>\n",
       "      <td>6674</td>\n",
       "    </tr>\n",
       "    <tr>\n",
       "      <th>6</th>\n",
       "      <td>Ecuador</td>\n",
       "      <td>2020-09-04</td>\n",
       "      <td>903</td>\n",
       "      <td>29</td>\n",
       "      <td>116360</td>\n",
       "      <td>6648</td>\n",
       "    </tr>\n",
       "    <tr>\n",
       "      <th>7</th>\n",
       "      <td>Ecuador</td>\n",
       "      <td>2020-09-03</td>\n",
       "      <td>1148</td>\n",
       "      <td>48</td>\n",
       "      <td>115457</td>\n",
       "      <td>6619</td>\n",
       "    </tr>\n",
       "    <tr>\n",
       "      <th>8</th>\n",
       "      <td>Ecuador</td>\n",
       "      <td>2020-09-02</td>\n",
       "      <td>542</td>\n",
       "      <td>15</td>\n",
       "      <td>114309</td>\n",
       "      <td>6571</td>\n",
       "    </tr>\n",
       "    <tr>\n",
       "      <th>9</th>\n",
       "      <td>Ecuador</td>\n",
       "      <td>2020-09-01</td>\n",
       "      <td>119</td>\n",
       "      <td>1</td>\n",
       "      <td>113767</td>\n",
       "      <td>6556</td>\n",
       "    </tr>\n",
       "    <tr>\n",
       "      <th>10</th>\n",
       "      <td>Ecuador</td>\n",
       "      <td>2020-08-31</td>\n",
       "      <td>742</td>\n",
       "      <td>18</td>\n",
       "      <td>113648</td>\n",
       "      <td>6555</td>\n",
       "    </tr>\n",
       "    <tr>\n",
       "      <th>11</th>\n",
       "      <td>Ecuador</td>\n",
       "      <td>2020-08-30</td>\n",
       "      <td>765</td>\n",
       "      <td>33</td>\n",
       "      <td>112906</td>\n",
       "      <td>6537</td>\n",
       "    </tr>\n",
       "    <tr>\n",
       "      <th>12</th>\n",
       "      <td>Ecuador</td>\n",
       "      <td>2020-08-29</td>\n",
       "      <td>922</td>\n",
       "      <td>33</td>\n",
       "      <td>112141</td>\n",
       "      <td>6504</td>\n",
       "    </tr>\n",
       "    <tr>\n",
       "      <th>13</th>\n",
       "      <td>Ecuador</td>\n",
       "      <td>2020-08-28</td>\n",
       "      <td>670</td>\n",
       "      <td>61</td>\n",
       "      <td>111219</td>\n",
       "      <td>6471</td>\n",
       "    </tr>\n",
       "    <tr>\n",
       "      <th>14</th>\n",
       "      <td>Ecuador</td>\n",
       "      <td>2020-08-27</td>\n",
       "      <td>1519</td>\n",
       "      <td>42</td>\n",
       "      <td>110549</td>\n",
       "      <td>6410</td>\n",
       "    </tr>\n",
       "    <tr>\n",
       "      <th>15</th>\n",
       "      <td>Ecuador</td>\n",
       "      <td>2020-08-26</td>\n",
       "      <td>741</td>\n",
       "      <td>46</td>\n",
       "      <td>109030</td>\n",
       "      <td>6368</td>\n",
       "    </tr>\n",
       "    <tr>\n",
       "      <th>16</th>\n",
       "      <td>Ecuador</td>\n",
       "      <td>2020-08-25</td>\n",
       "      <td>520</td>\n",
       "      <td>12</td>\n",
       "      <td>108289</td>\n",
       "      <td>6322</td>\n",
       "    </tr>\n",
       "    <tr>\n",
       "      <th>17</th>\n",
       "      <td>Ecuador</td>\n",
       "      <td>2020-08-24</td>\n",
       "      <td>680</td>\n",
       "      <td>33</td>\n",
       "      <td>107769</td>\n",
       "      <td>6310</td>\n",
       "    </tr>\n",
       "  </tbody>\n",
       "</table>\n",
       "</div>"
      ],
      "text/plain": [
       "    country        date  daily_confirmed_cases  daily_deaths  confirmed_cases  \\\n",
       "0   Ecuador  2020-09-10                   1409            74           112166   \n",
       "1   Ecuador  2020-09-09                    665            51           110757   \n",
       "2   Ecuador  2020-09-08                    308            52           110092   \n",
       "3   Ecuador  2020-09-07                  -8261          3800           109784   \n",
       "4   Ecuador  2020-09-06                    870            50           118045   \n",
       "5   Ecuador  2020-09-05                    815            26           117175   \n",
       "6   Ecuador  2020-09-04                    903            29           116360   \n",
       "7   Ecuador  2020-09-03                   1148            48           115457   \n",
       "8   Ecuador  2020-09-02                    542            15           114309   \n",
       "9   Ecuador  2020-09-01                    119             1           113767   \n",
       "10  Ecuador  2020-08-31                    742            18           113648   \n",
       "11  Ecuador  2020-08-30                    765            33           112906   \n",
       "12  Ecuador  2020-08-29                    922            33           112141   \n",
       "13  Ecuador  2020-08-28                    670            61           111219   \n",
       "14  Ecuador  2020-08-27                   1519            42           110549   \n",
       "15  Ecuador  2020-08-26                    741            46           109030   \n",
       "16  Ecuador  2020-08-25                    520            12           108289   \n",
       "17  Ecuador  2020-08-24                    680            33           107769   \n",
       "\n",
       "    deaths  \n",
       "0    10701  \n",
       "1    10627  \n",
       "2    10576  \n",
       "3    10524  \n",
       "4     6724  \n",
       "5     6674  \n",
       "6     6648  \n",
       "7     6619  \n",
       "8     6571  \n",
       "9     6556  \n",
       "10    6555  \n",
       "11    6537  \n",
       "12    6504  \n",
       "13    6471  \n",
       "14    6410  \n",
       "15    6368  \n",
       "16    6322  \n",
       "17    6310  "
      ]
     },
     "execution_count": 25,
     "metadata": {},
     "output_type": "execute_result"
    }
   ],
   "source": [
    "%%bigquery\n",
    "SELECT countries_and_territories AS country, date, daily_confirmed_cases, daily_deaths, confirmed_cases, deaths FROM bigquery-public-data.covid19_ecdc_eu.covid_19_geographic_distribution_worldwide\n",
    "WHERE date BETWEEN '2020-08-24' AND '2020-09-10'\n",
    "AND countries_and_territories = 'Ecuador'\n",
    "ORDER BY date DESC"
   ]
  },
  {
   "cell_type": "markdown",
   "metadata": {},
   "source": [
    "Among the 15 countries with the highest death ratio, a similar situation is in the case of China and Sudan:"
   ]
  },
  {
   "cell_type": "code",
   "execution_count": 26,
   "metadata": {},
   "outputs": [
    {
     "data": {
      "application/vnd.jupyter.widget-view+json": {
       "model_id": "4c16074b17734b01b1b496a8dd295ba4",
       "version_major": 2,
       "version_minor": 0
      },
      "text/plain": [
       "Query is running:   0%|          |"
      ]
     },
     "metadata": {},
     "output_type": "display_data"
    },
    {
     "data": {
      "application/vnd.jupyter.widget-view+json": {
       "model_id": "a849a065c26d4ede82b71e30bb4cd5f0",
       "version_major": 2,
       "version_minor": 0
      },
      "text/plain": [
       "Downloading:   0%|          |"
      ]
     },
     "metadata": {},
     "output_type": "display_data"
    },
    {
     "data": {
      "text/html": [
       "<div>\n",
       "<style scoped>\n",
       "    .dataframe tbody tr th:only-of-type {\n",
       "        vertical-align: middle;\n",
       "    }\n",
       "\n",
       "    .dataframe tbody tr th {\n",
       "        vertical-align: top;\n",
       "    }\n",
       "\n",
       "    .dataframe thead th {\n",
       "        text-align: right;\n",
       "    }\n",
       "</style>\n",
       "<table border=\"1\" class=\"dataframe\">\n",
       "  <thead>\n",
       "    <tr style=\"text-align: right;\">\n",
       "      <th></th>\n",
       "      <th>country</th>\n",
       "      <th>date</th>\n",
       "      <th>daily_confirmed_cases</th>\n",
       "      <th>daily_deaths</th>\n",
       "      <th>confirmed_cases</th>\n",
       "      <th>deaths</th>\n",
       "    </tr>\n",
       "  </thead>\n",
       "  <tbody>\n",
       "    <tr>\n",
       "      <th>0</th>\n",
       "      <td>China</td>\n",
       "      <td>2020-04-20</td>\n",
       "      <td>14</td>\n",
       "      <td>0</td>\n",
       "      <td>83817</td>\n",
       "      <td>4636</td>\n",
       "    </tr>\n",
       "    <tr>\n",
       "      <th>1</th>\n",
       "      <td>China</td>\n",
       "      <td>2020-04-19</td>\n",
       "      <td>18</td>\n",
       "      <td>0</td>\n",
       "      <td>83803</td>\n",
       "      <td>4636</td>\n",
       "    </tr>\n",
       "    <tr>\n",
       "      <th>2</th>\n",
       "      <td>China</td>\n",
       "      <td>2020-04-18</td>\n",
       "      <td>31</td>\n",
       "      <td>0</td>\n",
       "      <td>83785</td>\n",
       "      <td>4636</td>\n",
       "    </tr>\n",
       "    <tr>\n",
       "      <th>3</th>\n",
       "      <td>China</td>\n",
       "      <td>2020-04-17</td>\n",
       "      <td>352</td>\n",
       "      <td>1290</td>\n",
       "      <td>83754</td>\n",
       "      <td>4636</td>\n",
       "    </tr>\n",
       "    <tr>\n",
       "      <th>4</th>\n",
       "      <td>China</td>\n",
       "      <td>2020-04-16</td>\n",
       "      <td>50</td>\n",
       "      <td>0</td>\n",
       "      <td>83402</td>\n",
       "      <td>3346</td>\n",
       "    </tr>\n",
       "    <tr>\n",
       "      <th>5</th>\n",
       "      <td>China</td>\n",
       "      <td>2020-04-15</td>\n",
       "      <td>49</td>\n",
       "      <td>1</td>\n",
       "      <td>83352</td>\n",
       "      <td>3346</td>\n",
       "    </tr>\n",
       "    <tr>\n",
       "      <th>6</th>\n",
       "      <td>China</td>\n",
       "      <td>2020-04-14</td>\n",
       "      <td>94</td>\n",
       "      <td>0</td>\n",
       "      <td>83303</td>\n",
       "      <td>3345</td>\n",
       "    </tr>\n",
       "    <tr>\n",
       "      <th>7</th>\n",
       "      <td>China</td>\n",
       "      <td>2020-04-13</td>\n",
       "      <td>112</td>\n",
       "      <td>2</td>\n",
       "      <td>83209</td>\n",
       "      <td>3345</td>\n",
       "    </tr>\n",
       "    <tr>\n",
       "      <th>8</th>\n",
       "      <td>China</td>\n",
       "      <td>2020-04-12</td>\n",
       "      <td>93</td>\n",
       "      <td>0</td>\n",
       "      <td>83097</td>\n",
       "      <td>3343</td>\n",
       "    </tr>\n",
       "    <tr>\n",
       "      <th>9</th>\n",
       "      <td>China</td>\n",
       "      <td>2020-04-11</td>\n",
       "      <td>79</td>\n",
       "      <td>3</td>\n",
       "      <td>83004</td>\n",
       "      <td>3343</td>\n",
       "    </tr>\n",
       "    <tr>\n",
       "      <th>10</th>\n",
       "      <td>China</td>\n",
       "      <td>2020-04-10</td>\n",
       "      <td>55</td>\n",
       "      <td>1</td>\n",
       "      <td>82925</td>\n",
       "      <td>3340</td>\n",
       "    </tr>\n",
       "    <tr>\n",
       "      <th>11</th>\n",
       "      <td>China</td>\n",
       "      <td>2020-04-09</td>\n",
       "      <td>86</td>\n",
       "      <td>2</td>\n",
       "      <td>82870</td>\n",
       "      <td>3339</td>\n",
       "    </tr>\n",
       "    <tr>\n",
       "      <th>12</th>\n",
       "      <td>China</td>\n",
       "      <td>2020-04-08</td>\n",
       "      <td>86</td>\n",
       "      <td>2</td>\n",
       "      <td>82784</td>\n",
       "      <td>3337</td>\n",
       "    </tr>\n",
       "    <tr>\n",
       "      <th>13</th>\n",
       "      <td>China</td>\n",
       "      <td>2020-04-07</td>\n",
       "      <td>56</td>\n",
       "      <td>0</td>\n",
       "      <td>82698</td>\n",
       "      <td>3335</td>\n",
       "    </tr>\n",
       "    <tr>\n",
       "      <th>14</th>\n",
       "      <td>China</td>\n",
       "      <td>2020-04-06</td>\n",
       "      <td>67</td>\n",
       "      <td>2</td>\n",
       "      <td>82642</td>\n",
       "      <td>3335</td>\n",
       "    </tr>\n",
       "    <tr>\n",
       "      <th>15</th>\n",
       "      <td>China</td>\n",
       "      <td>2020-04-05</td>\n",
       "      <td>48</td>\n",
       "      <td>3</td>\n",
       "      <td>82575</td>\n",
       "      <td>3333</td>\n",
       "    </tr>\n",
       "    <tr>\n",
       "      <th>16</th>\n",
       "      <td>China</td>\n",
       "      <td>2020-04-04</td>\n",
       "      <td>62</td>\n",
       "      <td>4</td>\n",
       "      <td>82527</td>\n",
       "      <td>3330</td>\n",
       "    </tr>\n",
       "    <tr>\n",
       "      <th>17</th>\n",
       "      <td>China</td>\n",
       "      <td>2020-04-03</td>\n",
       "      <td>70</td>\n",
       "      <td>10</td>\n",
       "      <td>82465</td>\n",
       "      <td>3326</td>\n",
       "    </tr>\n",
       "  </tbody>\n",
       "</table>\n",
       "</div>"
      ],
      "text/plain": [
       "   country        date  daily_confirmed_cases  daily_deaths  confirmed_cases  \\\n",
       "0    China  2020-04-20                     14             0            83817   \n",
       "1    China  2020-04-19                     18             0            83803   \n",
       "2    China  2020-04-18                     31             0            83785   \n",
       "3    China  2020-04-17                    352          1290            83754   \n",
       "4    China  2020-04-16                     50             0            83402   \n",
       "5    China  2020-04-15                     49             1            83352   \n",
       "6    China  2020-04-14                     94             0            83303   \n",
       "7    China  2020-04-13                    112             2            83209   \n",
       "8    China  2020-04-12                     93             0            83097   \n",
       "9    China  2020-04-11                     79             3            83004   \n",
       "10   China  2020-04-10                     55             1            82925   \n",
       "11   China  2020-04-09                     86             2            82870   \n",
       "12   China  2020-04-08                     86             2            82784   \n",
       "13   China  2020-04-07                     56             0            82698   \n",
       "14   China  2020-04-06                     67             2            82642   \n",
       "15   China  2020-04-05                     48             3            82575   \n",
       "16   China  2020-04-04                     62             4            82527   \n",
       "17   China  2020-04-03                     70            10            82465   \n",
       "\n",
       "    deaths  \n",
       "0     4636  \n",
       "1     4636  \n",
       "2     4636  \n",
       "3     4636  \n",
       "4     3346  \n",
       "5     3346  \n",
       "6     3345  \n",
       "7     3345  \n",
       "8     3343  \n",
       "9     3343  \n",
       "10    3340  \n",
       "11    3339  \n",
       "12    3337  \n",
       "13    3335  \n",
       "14    3335  \n",
       "15    3333  \n",
       "16    3330  \n",
       "17    3326  "
      ]
     },
     "execution_count": 26,
     "metadata": {},
     "output_type": "execute_result"
    }
   ],
   "source": [
    "# CHINA\n",
    "\n",
    "%%bigquery\n",
    "SELECT countries_and_territories AS country, date, daily_confirmed_cases, daily_deaths, confirmed_cases, deaths FROM bigquery-public-data.covid19_ecdc_eu.covid_19_geographic_distribution_worldwide\n",
    "WHERE date BETWEEN '2020-04-03' AND '2020-04-20'\n",
    "AND countries_and_territories = 'China'\n",
    "ORDER BY date DESC"
   ]
  },
  {
   "cell_type": "code",
   "execution_count": 27,
   "metadata": {},
   "outputs": [
    {
     "data": {
      "application/vnd.jupyter.widget-view+json": {
       "model_id": "d5483fd377e34fbb8553318a82136775",
       "version_major": 2,
       "version_minor": 0
      },
      "text/plain": [
       "Query is running:   0%|          |"
      ]
     },
     "metadata": {},
     "output_type": "display_data"
    },
    {
     "data": {
      "application/vnd.jupyter.widget-view+json": {
       "model_id": "3eac26e6f89f4e42ae285e4e27641df7",
       "version_major": 2,
       "version_minor": 0
      },
      "text/plain": [
       "Downloading:   0%|          |"
      ]
     },
     "metadata": {},
     "output_type": "display_data"
    },
    {
     "data": {
      "text/html": [
       "<div>\n",
       "<style scoped>\n",
       "    .dataframe tbody tr th:only-of-type {\n",
       "        vertical-align: middle;\n",
       "    }\n",
       "\n",
       "    .dataframe tbody tr th {\n",
       "        vertical-align: top;\n",
       "    }\n",
       "\n",
       "    .dataframe thead th {\n",
       "        text-align: right;\n",
       "    }\n",
       "</style>\n",
       "<table border=\"1\" class=\"dataframe\">\n",
       "  <thead>\n",
       "    <tr style=\"text-align: right;\">\n",
       "      <th></th>\n",
       "      <th>country</th>\n",
       "      <th>date</th>\n",
       "      <th>daily_confirmed_cases</th>\n",
       "      <th>daily_deaths</th>\n",
       "      <th>confirmed_cases</th>\n",
       "      <th>deaths</th>\n",
       "    </tr>\n",
       "  </thead>\n",
       "  <tbody>\n",
       "    <tr>\n",
       "      <th>0</th>\n",
       "      <td>Sudan</td>\n",
       "      <td>2020-11-12</td>\n",
       "      <td>191</td>\n",
       "      <td>0</td>\n",
       "      <td>14346</td>\n",
       "      <td>1116</td>\n",
       "    </tr>\n",
       "    <tr>\n",
       "      <th>1</th>\n",
       "      <td>Sudan</td>\n",
       "      <td>2020-11-11</td>\n",
       "      <td>0</td>\n",
       "      <td>0</td>\n",
       "      <td>14155</td>\n",
       "      <td>1116</td>\n",
       "    </tr>\n",
       "    <tr>\n",
       "      <th>2</th>\n",
       "      <td>Sudan</td>\n",
       "      <td>2020-11-10</td>\n",
       "      <td>65</td>\n",
       "      <td>1</td>\n",
       "      <td>14155</td>\n",
       "      <td>1116</td>\n",
       "    </tr>\n",
       "    <tr>\n",
       "      <th>3</th>\n",
       "      <td>Sudan</td>\n",
       "      <td>2020-11-09</td>\n",
       "      <td>147</td>\n",
       "      <td>278</td>\n",
       "      <td>14090</td>\n",
       "      <td>1115</td>\n",
       "    </tr>\n",
       "    <tr>\n",
       "      <th>4</th>\n",
       "      <td>Sudan</td>\n",
       "      <td>2020-11-08</td>\n",
       "      <td>0</td>\n",
       "      <td>0</td>\n",
       "      <td>13943</td>\n",
       "      <td>837</td>\n",
       "    </tr>\n",
       "    <tr>\n",
       "      <th>5</th>\n",
       "      <td>Sudan</td>\n",
       "      <td>2020-11-07</td>\n",
       "      <td>0</td>\n",
       "      <td>0</td>\n",
       "      <td>13943</td>\n",
       "      <td>837</td>\n",
       "    </tr>\n",
       "    <tr>\n",
       "      <th>6</th>\n",
       "      <td>Sudan</td>\n",
       "      <td>2020-11-06</td>\n",
       "      <td>0</td>\n",
       "      <td>0</td>\n",
       "      <td>13943</td>\n",
       "      <td>837</td>\n",
       "    </tr>\n",
       "    <tr>\n",
       "      <th>7</th>\n",
       "      <td>Sudan</td>\n",
       "      <td>2020-11-05</td>\n",
       "      <td>77</td>\n",
       "      <td>0</td>\n",
       "      <td>13943</td>\n",
       "      <td>837</td>\n",
       "    </tr>\n",
       "    <tr>\n",
       "      <th>8</th>\n",
       "      <td>Sudan</td>\n",
       "      <td>2020-11-04</td>\n",
       "      <td>47</td>\n",
       "      <td>0</td>\n",
       "      <td>13866</td>\n",
       "      <td>837</td>\n",
       "    </tr>\n",
       "    <tr>\n",
       "      <th>9</th>\n",
       "      <td>Sudan</td>\n",
       "      <td>2020-11-03</td>\n",
       "      <td>0</td>\n",
       "      <td>0</td>\n",
       "      <td>13819</td>\n",
       "      <td>837</td>\n",
       "    </tr>\n",
       "    <tr>\n",
       "      <th>10</th>\n",
       "      <td>Sudan</td>\n",
       "      <td>2020-11-02</td>\n",
       "      <td>54</td>\n",
       "      <td>0</td>\n",
       "      <td>13819</td>\n",
       "      <td>837</td>\n",
       "    </tr>\n",
       "    <tr>\n",
       "      <th>11</th>\n",
       "      <td>Sudan</td>\n",
       "      <td>2020-11-01</td>\n",
       "      <td>0</td>\n",
       "      <td>0</td>\n",
       "      <td>13765</td>\n",
       "      <td>837</td>\n",
       "    </tr>\n",
       "    <tr>\n",
       "      <th>12</th>\n",
       "      <td>Sudan</td>\n",
       "      <td>2020-10-31</td>\n",
       "      <td>0</td>\n",
       "      <td>0</td>\n",
       "      <td>13765</td>\n",
       "      <td>837</td>\n",
       "    </tr>\n",
       "    <tr>\n",
       "      <th>13</th>\n",
       "      <td>Sudan</td>\n",
       "      <td>2020-10-30</td>\n",
       "      <td>0</td>\n",
       "      <td>0</td>\n",
       "      <td>13765</td>\n",
       "      <td>837</td>\n",
       "    </tr>\n",
       "    <tr>\n",
       "      <th>14</th>\n",
       "      <td>Sudan</td>\n",
       "      <td>2020-10-29</td>\n",
       "      <td>0</td>\n",
       "      <td>0</td>\n",
       "      <td>13765</td>\n",
       "      <td>837</td>\n",
       "    </tr>\n",
       "    <tr>\n",
       "      <th>15</th>\n",
       "      <td>Sudan</td>\n",
       "      <td>2020-10-28</td>\n",
       "      <td>18</td>\n",
       "      <td>0</td>\n",
       "      <td>13765</td>\n",
       "      <td>837</td>\n",
       "    </tr>\n",
       "    <tr>\n",
       "      <th>16</th>\n",
       "      <td>Sudan</td>\n",
       "      <td>2020-10-27</td>\n",
       "      <td>5</td>\n",
       "      <td>0</td>\n",
       "      <td>13747</td>\n",
       "      <td>837</td>\n",
       "    </tr>\n",
       "    <tr>\n",
       "      <th>17</th>\n",
       "      <td>Sudan</td>\n",
       "      <td>2020-10-26</td>\n",
       "      <td>0</td>\n",
       "      <td>0</td>\n",
       "      <td>13742</td>\n",
       "      <td>837</td>\n",
       "    </tr>\n",
       "  </tbody>\n",
       "</table>\n",
       "</div>"
      ],
      "text/plain": [
       "   country        date  daily_confirmed_cases  daily_deaths  confirmed_cases  \\\n",
       "0    Sudan  2020-11-12                    191             0            14346   \n",
       "1    Sudan  2020-11-11                      0             0            14155   \n",
       "2    Sudan  2020-11-10                     65             1            14155   \n",
       "3    Sudan  2020-11-09                    147           278            14090   \n",
       "4    Sudan  2020-11-08                      0             0            13943   \n",
       "5    Sudan  2020-11-07                      0             0            13943   \n",
       "6    Sudan  2020-11-06                      0             0            13943   \n",
       "7    Sudan  2020-11-05                     77             0            13943   \n",
       "8    Sudan  2020-11-04                     47             0            13866   \n",
       "9    Sudan  2020-11-03                      0             0            13819   \n",
       "10   Sudan  2020-11-02                     54             0            13819   \n",
       "11   Sudan  2020-11-01                      0             0            13765   \n",
       "12   Sudan  2020-10-31                      0             0            13765   \n",
       "13   Sudan  2020-10-30                      0             0            13765   \n",
       "14   Sudan  2020-10-29                      0             0            13765   \n",
       "15   Sudan  2020-10-28                     18             0            13765   \n",
       "16   Sudan  2020-10-27                      5             0            13747   \n",
       "17   Sudan  2020-10-26                      0             0            13742   \n",
       "\n",
       "    deaths  \n",
       "0     1116  \n",
       "1     1116  \n",
       "2     1116  \n",
       "3     1115  \n",
       "4      837  \n",
       "5      837  \n",
       "6      837  \n",
       "7      837  \n",
       "8      837  \n",
       "9      837  \n",
       "10     837  \n",
       "11     837  \n",
       "12     837  \n",
       "13     837  \n",
       "14     837  \n",
       "15     837  \n",
       "16     837  \n",
       "17     837  "
      ]
     },
     "execution_count": 27,
     "metadata": {},
     "output_type": "execute_result"
    }
   ],
   "source": [
    "# SUDAN\n",
    "\n",
    "%%bigquery\n",
    "SELECT countries_and_territories AS country, date, daily_confirmed_cases, daily_deaths, confirmed_cases, deaths FROM bigquery-public-data.covid19_ecdc_eu.covid_19_geographic_distribution_worldwide\n",
    "WHERE date BETWEEN '2020-10-26' AND '2020-11-12'\n",
    "AND countries_and_territories = 'Sudan'\n",
    "ORDER BY date DESC"
   ]
  },
  {
   "cell_type": "markdown",
   "metadata": {},
   "source": [
    "The rest of the cases are when there are 1-2 deaths for 1-2 cases in the last 14 days, which results in a very high death ratio, but it doesn't look like the deadliest day of the pandemic (eg. comparing to the maximum number of deaths in one day).\n",
    "\n",
    "**CONCLUSION:** The death ratio for this dataset is not very reliable because it is prone to outliers. Also, that ratio will take on high values when there are single cases. Therefore, to analyze the level of mortality due to COVID-19, it would be necessary to deal with outliers and also take into account the maximum number of deaths on a given day."
   ]
  }
 ],
 "metadata": {
  "kernelspec": {
   "display_name": "py37",
   "language": "python",
   "name": "python3"
  },
  "language_info": {
   "codemirror_mode": {
    "name": "ipython",
    "version": 3
   },
   "file_extension": ".py",
   "mimetype": "text/x-python",
   "name": "python",
   "nbconvert_exporter": "python",
   "pygments_lexer": "ipython3",
   "version": "3.8.0"
  },
  "orig_nbformat": 4
 },
 "nbformat": 4,
 "nbformat_minor": 2
}
